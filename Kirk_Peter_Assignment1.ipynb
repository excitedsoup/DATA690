{
 "cells": [
  {
   "cell_type": "markdown",
   "metadata": {},
   "source": [
    "# Assignment 1 (60 points - Due on Monday September 13th by 7:00 pm ET)\n",
    "\n",
    "**You are free to use any IDE you like.**\n",
    "The output of this assignment for submission should be in PDF format **AND** .py or .ipynb. The name of the file should be as follows: Lastname_Firstname_Assignment1.pdf (example: Thomas_Sunela_Assignment1.pdf) ****AND**** Lastname_Firstname_Assignment1.ipynb (example: Thomas_Sunela_Assignment1.ipynb. In short, you are submitting the python notebook as well as the pdf of that notebook.\n",
    "\n",
    "Incorrect file name will cost you points!\n",
    "Instructions for converting a Jupyter Python notebook to PDF: Go to the menu and choose, File --> Download As --> html\n",
    "\n",
    "Open that html file and print it to PDF.\n",
    "\n",
    "**Things to note:**\n",
    "* Each cell should display an output"
   ]
  },
  {
   "cell_type": "markdown",
   "metadata": {},
   "source": [
    "### Problem 1\n",
    "<span  style=\"color:purple; font-size:16px\">Create a list called `dwarfs` containing the names of the seven dwarfs: doc, sleepy, dopey, grumpy, happy, sneezy, bashful.</span>"
   ]
  },
  {
   "cell_type": "code",
   "execution_count": 1,
   "metadata": {},
   "outputs": [
    {
     "name": "stdout",
     "output_type": "stream",
     "text": [
      "['doc', 'sleepy', 'dopey', 'grumpy,', 'happy', 'sneezy', 'bashful']\n"
     ]
    }
   ],
   "source": [
    "# Answer\n",
    "dwarfs = ['doc','sleepy','dopey','grumpy,','happy','sneezy','bashful']\n",
    "print(dwarfs)"
   ]
  },
  {
   "cell_type": "markdown",
   "metadata": {},
   "source": [
    "### Problem 2\n",
    "<span  style=\"color:purple; font-size:16px\">Extract sleepy from `dwarfs`</span>"
   ]
  },
  {
   "cell_type": "code",
   "execution_count": 2,
   "metadata": {},
   "outputs": [
    {
     "name": "stdout",
     "output_type": "stream",
     "text": [
      "sleepy\n"
     ]
    }
   ],
   "source": [
    "# Answer\n",
    "print(dwarfs[1])"
   ]
  },
  {
   "cell_type": "markdown",
   "metadata": {},
   "source": [
    "### Problem 3\n",
    "<span  style=\"color:purple; font-size:16px\">Using slicing, extract grumpy, happy, sneezy, and bashful from `dwarfs`</span>"
   ]
  },
  {
   "cell_type": "code",
   "execution_count": 4,
   "metadata": {},
   "outputs": [
    {
     "name": "stdout",
     "output_type": "stream",
     "text": [
      "['grumpy,', 'happy', 'sneezy', 'bashful']\n"
     ]
    }
   ],
   "source": [
    "# Answer\n",
    "print(dwarfs[3:])"
   ]
  },
  {
   "cell_type": "markdown",
   "metadata": {},
   "source": [
    "### Problem 4\n",
    "<span  style=\"color:purple; font-size:16px\">Using slicing, extract doc, sleepy, dopey from `dwarfs`</span>"
   ]
  },
  {
   "cell_type": "code",
   "execution_count": 8,
   "metadata": {},
   "outputs": [
    {
     "name": "stdout",
     "output_type": "stream",
     "text": [
      "['doc', 'sleepy', 'dopey']\n"
     ]
    }
   ],
   "source": [
    "# Answer\n",
    "print(dwarfs[:3])"
   ]
  },
  {
   "cell_type": "markdown",
   "metadata": {},
   "source": [
    "### Problem 5\n",
    "<span  style=\"color:purple; font-size:16px\">Using slicing, select doc, dopey, happy, bashful from `dwarfs`</span>"
   ]
  },
  {
   "cell_type": "code",
   "execution_count": 10,
   "metadata": {},
   "outputs": [
    {
     "name": "stdout",
     "output_type": "stream",
     "text": [
      "['doc', 'dopey', 'happy', 'bashful']\n"
     ]
    }
   ],
   "source": [
    "# Answer\n",
    "print(dwarfs[0::2])"
   ]
  },
  {
   "cell_type": "markdown",
   "metadata": {},
   "source": [
    "### Problem 6\n",
    "<span  style=\"color:purple; font-size:16px\">Using the append() method, add 'imaginary' to `dwarfs`</span>"
   ]
  },
  {
   "cell_type": "code",
   "execution_count": 2,
   "metadata": {},
   "outputs": [
    {
     "name": "stdout",
     "output_type": "stream",
     "text": [
      "['doc', 'sleepy', 'dopey', 'grumpy,', 'happy', 'sneezy', 'bashful', 'imaginary']\n"
     ]
    }
   ],
   "source": [
    "# Answer\n",
    "dwarfs.append('imaginary')\n",
    "print(dwarfs)"
   ]
  },
  {
   "cell_type": "markdown",
   "metadata": {},
   "source": [
    "### Problem 7\n",
    "<span  style=\"color:purple; font-size:16px\">Oh no! The new dwarf's name is spelled 'emaginary'! Fix this entry of `dwarfs` in place.</span>"
   ]
  },
  {
   "cell_type": "code",
   "execution_count": 13,
   "metadata": {},
   "outputs": [
    {
     "name": "stdout",
     "output_type": "stream",
     "text": [
      "['doc', 'sleepy', 'dopey', 'grumpy,', 'happy', 'sneezy', 'bashful', 'emaginary']\n"
     ]
    }
   ],
   "source": [
    "# Answer\n",
    "dwarfs[7] = 'emaginary'\n",
    "print(dwarfs)"
   ]
  },
  {
   "cell_type": "markdown",
   "metadata": {},
   "source": [
    "### Problem 8\n",
    "<span  style=\"color:purple; font-size:16px\">Create a tuple called 'dwarf_tuple'</span>"
   ]
  },
  {
   "cell_type": "code",
   "execution_count": 14,
   "metadata": {},
   "outputs": [
    {
     "data": {
      "text/plain": [
       "tuple"
      ]
     },
     "execution_count": 14,
     "metadata": {},
     "output_type": "execute_result"
    }
   ],
   "source": [
    "# Answer\n",
    "dwarf_tuple = ()\n",
    "type(dwarf_tuple)"
   ]
  },
  {
   "cell_type": "markdown",
   "metadata": {},
   "source": [
    "### Problem 9\n",
    "<span  style=\"color:purple; font-size:16px\">Extract the second to last dwarf using negative indexes</span>"
   ]
  },
  {
   "cell_type": "code",
   "execution_count": 16,
   "metadata": {},
   "outputs": [
    {
     "name": "stdout",
     "output_type": "stream",
     "text": [
      "bashful\n"
     ]
    }
   ],
   "source": [
    "# Answer\n",
    "print(dwarfs[-2])"
   ]
  },
  {
   "cell_type": "markdown",
   "metadata": {},
   "source": [
    "### Problem 10\n",
    "<span  style=\"color:purple; font-size:16px\">Convert the cell below to a *Markdown cell* and explain to yourself why the following code would produce an error ```dwarf_tuple[0] = 'DOC'```</span>"
   ]
  },
  {
   "cell_type": "markdown",
   "metadata": {},
   "source": [
    "# Answer: Tuples are immutable\n"
   ]
  },
  {
   "cell_type": "markdown",
   "metadata": {},
   "source": [
    "### Problem 11\n",
    "<span  style=\"color:purple; font-size:16px\">In 2018, the Notre Dame football team won 12 games, in 2017 they won 10 games, and in 2016 they won 4. Create a dictionary called *nd_football* with the year as the *key* (as an `string`) and the number of games won as the *value*.</span>"
   ]
  },
  {
   "cell_type": "code",
   "execution_count": 3,
   "metadata": {},
   "outputs": [
    {
     "name": "stdout",
     "output_type": "stream",
     "text": [
      "{'2018': 12, '2017': 10, '2016': 4}\n"
     ]
    }
   ],
   "source": [
    "# Answer\n",
    "nd_football = {'2018':12, '2017':10, '2016':4}\n",
    "print(nd_football)"
   ]
  },
  {
   "cell_type": "markdown",
   "metadata": {},
   "source": [
    "### Problem 12\n",
    "<span  style=\"color:purple; font-size:16px\">Extract the 2017 data from *nd_football*</span>"
   ]
  },
  {
   "cell_type": "code",
   "execution_count": 21,
   "metadata": {},
   "outputs": [
    {
     "name": "stdout",
     "output_type": "stream",
     "text": [
      "10\n"
     ]
    }
   ],
   "source": [
    "# Answer\n",
    "print(nd_football['2017'])"
   ]
  },
  {
   "cell_type": "markdown",
   "metadata": {},
   "source": [
    "### Problem 13\n",
    "<span  style=\"color:purple; font-size:16px\">Without using a *for loop*, print out all the *keys* in *nd_football*</span>"
   ]
  },
  {
   "cell_type": "code",
   "execution_count": 24,
   "metadata": {},
   "outputs": [
    {
     "name": "stdout",
     "output_type": "stream",
     "text": [
      "dict_keys(['2018', '2017', '2016'])\n"
     ]
    }
   ],
   "source": [
    "# Answer\n",
    "print(nd_football.keys())"
   ]
  },
  {
   "cell_type": "markdown",
   "metadata": {},
   "source": [
    "\n",
    "<span  style=\"color:purple; font-size:16px\">Without using a *for loop*, print out all of the *values* in *nd_football*</span>"
   ]
  },
  {
   "cell_type": "code",
   "execution_count": 25,
   "metadata": {},
   "outputs": [
    {
     "name": "stdout",
     "output_type": "stream",
     "text": [
      "dict_values([12, 10, 4])\n"
     ]
    }
   ],
   "source": [
    "# Answer\n",
    "print(nd_football.values())"
   ]
  },
  {
   "cell_type": "markdown",
   "metadata": {},
   "source": [
    "### Problem 14\n",
    "<span  style=\"color:purple; font-size:16px\">Without using a *for loop*, print out both the *keys* and *values* of *nd_football* at the same time</span>"
   ]
  },
  {
   "cell_type": "code",
   "execution_count": 26,
   "metadata": {},
   "outputs": [
    {
     "name": "stdout",
     "output_type": "stream",
     "text": [
      "dict_items([('2018', 12), ('2017', 10), ('2016', 4)])\n"
     ]
    }
   ],
   "source": [
    "# Answer\n",
    "print(nd_football.items())"
   ]
  },
  {
   "cell_type": "markdown",
   "metadata": {},
   "source": [
    "### Problem 15\n",
    "<span  style=\"color:purple; font-size:16px\">In 2015, the Notre Dame football team won 10 games, add this to the *nd_football* dictionary*</span>"
   ]
  },
  {
   "cell_type": "code",
   "execution_count": 4,
   "metadata": {},
   "outputs": [
    {
     "name": "stdout",
     "output_type": "stream",
     "text": [
      "{'2018': 12, '2017': 10, '2016': 4, '2015': 10}\n"
     ]
    }
   ],
   "source": [
    "# Answer\n",
    "nd_football['2015'] = 10\n",
    "print(nd_football)"
   ]
  },
  {
   "cell_type": "markdown",
   "metadata": {},
   "source": [
    "---\n",
    "\n",
    "For the following problems, use the data provided in the table below.\n",
    "\n",
    "| Name  | Major  | Midterm1   | Midterm2  | Final |\n",
    "|-------|--------|-----------|--------|--------|\n",
    "|  Paul | Chem   |  50       |   75   | 80 |\n",
    "|  Peter | Phys   |  89       |   83   | 88 |\n",
    "|  Carl | Ag   |  76       |   94   |  99 |\n"
   ]
  },
  {
   "cell_type": "markdown",
   "metadata": {},
   "source": [
    "### Problem 16\n",
    "<span  style=\"color:purple; font-size:16px\">Create a *list of lists* called `l_of_l` representing the data in the table above. Then extract the information containing *Peter's* Midterm 1 score and save it to a variable called `prob_17`.</span>\n"
   ]
  },
  {
   "cell_type": "code",
   "execution_count": 5,
   "metadata": {},
   "outputs": [
    {
     "name": "stdout",
     "output_type": "stream",
     "text": [
      "89\n"
     ]
    }
   ],
   "source": [
    "# Answer\n",
    "l_of_l = [['Paul', 'Chem', 50, 75, 80], ['Peter', 'Phys', 89, 83, 88], ['Carl', 'Ag', 76, 94, 99]]\n",
    "prob_17 = l_of_l[1][2]\n",
    "print(prob_17)"
   ]
  },
  {
   "cell_type": "markdown",
   "metadata": {},
   "source": [
    "### Problem 17\n",
    "<span  style=\"color:purple; font-size:16px\">Create a *dictionary of lists* called `d_of_l` representing the data in the table above using the names as *keys*. Then extract the information containing *Paul's* Final score and save it to a variable called `prob_18`.</span>\n"
   ]
  },
  {
   "cell_type": "code",
   "execution_count": 7,
   "metadata": {},
   "outputs": [
    {
     "name": "stdout",
     "output_type": "stream",
     "text": [
      "80\n"
     ]
    }
   ],
   "source": [
    "# Answer\n",
    "d_of_l = {'Paul':l_of_l[0][1:], 'Peter':l_of_l[1][1:], 'Carl':l_of_l[2][1:]}\n",
    "prob_18 = d_of_l['Paul'][3]\n",
    "print(prob_18)"
   ]
  },
  {
   "cell_type": "markdown",
   "metadata": {},
   "source": [
    "### Problem 18\n",
    "<span  style=\"color:purple; font-size:16px\">Create a *dictionary of dictionaries* called `d_of_d` representing the data in the table above, again using the names as keys. Then extract the information containing *Carl's* Final score and save it to a variable called `prob_19`.</span>\n"
   ]
  },
  {
   "cell_type": "code",
   "execution_count": 47,
   "metadata": {},
   "outputs": [
    {
     "name": "stdout",
     "output_type": "stream",
     "text": [
      "99\n"
     ]
    }
   ],
   "source": [
    "# Answer\n",
    "d_of_d = {'Paul':{'Major':'Chem','Midterm1':50,'Midterm2':75,'Final':80},\n",
    "          'Peter':{'Major':'Phys','Midterm1':89,'Midterm2':83,'Final':88}, \n",
    "          'Carl':{'Major':'Ag','Midterm1':76,'Midterm2':94,'Final':99}}\n",
    "prob_19 = d_of_d['Carl']['Final']"
   ]
  },
  {
   "cell_type": "markdown",
   "metadata": {},
   "source": [
    "### Problem 19\n",
    "Suppose that a meticulous beer aficionado has been keeping track of the different type of beer they have been drinking. This person might create a list of the different beers they have tried and the order of the list would represent the order that they taste-tested the beers. \n",
    "\n",
    "```beer_list = ['guinness', 'sierra nevada pale ale', 'guinness', 'coors', 'modelo especial', 'corona', 'modelo especial']```\n",
    "\n",
    "The friend created a list of beers they tasted.\n",
    "```friends_beer_list = ['budweiser', 'pacifico', 'corona', 'guinness', 'lagunitas ipa']```\n",
    "\n",
    "What beers have both the beer aficionado AND their friend tried?"
   ]
  },
  {
   "cell_type": "code",
   "execution_count": 50,
   "metadata": {},
   "outputs": [
    {
     "name": "stdout",
     "output_type": "stream",
     "text": [
      "['corona', 'guinness']\n"
     ]
    }
   ],
   "source": [
    "# Answer\n",
    "beer_list = ['guinness', 'sierra nevada pale ale', 'guinness', 'coors', 'modelo especial', 'corona', 'modelo especial']\n",
    "friends_beer_list = ['budweiser', 'pacifico', 'corona', 'guinness', 'lagunitas ipa']\n",
    "print(list(set(beer_list) & set(friends_beer_list)))"
   ]
  },
  {
   "cell_type": "markdown",
   "metadata": {},
   "source": [
    "### Problem 20\n",
    "What beers has the beer aficionado tried that their friend has not?"
   ]
  },
  {
   "cell_type": "code",
   "execution_count": 57,
   "metadata": {},
   "outputs": [
    {
     "name": "stdout",
     "output_type": "stream",
     "text": [
      "['modelo especial', 'coors', 'sierra nevada pale ale']\n"
     ]
    }
   ],
   "source": [
    "# Answer\n",
    "print(list(set(beer_list) - set(friends_beer_list)))"
   ]
  }
 ],
 "metadata": {
  "kernelspec": {
   "display_name": "Python 3",
   "language": "python",
   "name": "python3"
  },
  "language_info": {
   "codemirror_mode": {
    "name": "ipython",
    "version": 3
   },
   "file_extension": ".py",
   "mimetype": "text/x-python",
   "name": "python",
   "nbconvert_exporter": "python",
   "pygments_lexer": "ipython3",
   "version": "3.8.8"
  }
 },
 "nbformat": 4,
 "nbformat_minor": 2
}
