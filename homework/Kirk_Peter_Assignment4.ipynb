{
 "cells": [
  {
   "cell_type": "markdown",
   "metadata": {},
   "source": [
    "# Assignment 4 (60 points - Due on Monday October 25th by 7:00 pm ET)\n",
    "\n",
    "**You are free to use any IDE you like.**\n",
    "The output of this assignment for submission should be in PDF format **AND** .py or .ipynb. The name of the file should be as follows: Lastname_Firstname_Assignment4.pdf (example: Thomas_Sunela_Assignment4.pdf) ****AND**** Lastname_Firstname_Assignment4.ipynb (example: Thomas_Sunela_Assignment4.ipynb. In short, you are submitting the python notebook as well as the pdf of that notebook.\n",
    "\n",
    "Incorrect file name will cost you points! Do NOT submit HTML code file.\n",
    "Instructions for converting a Jupyter Python notebook to PDF: Go to the menu and choose, File --> Download As --> html\n",
    "\n",
    "Open that html file and print it to PDF.\n",
    "\n",
    "**Things to note:**\n",
    "* Output should be displayed for each question"
   ]
  },
  {
   "cell_type": "markdown",
   "metadata": {},
   "source": [
    "## Use the NDFootballScore file to answer the following questions. Each question answer should be displayed. The meaning of some of the variables are described below.\n",
    "* Season = the year the game was played\n",
    "* Site = Home or Away game\n",
    "* ND Coach = ND Coach's name\n",
    "* W/L/T = Win, Loss or Tie\n",
    "\n",
    "\n",
    "<h3> You may need to recode some variables like W/L/T etc. so that the results are meaningful. Ensure there are sufficient comments in what you are doing.  For example, if there are multiple things asked in one question, separate it out with adequate comments. "
   ]
  },
  {
   "cell_type": "markdown",
   "metadata": {},
   "source": [
    "### 1. Load and explore the data. Remove unnecessary columns to only retain \"Season, W/L/T, Score, and Opponent\". Rename the `W/L/T` column to `result`. Make all the column names lowercase "
   ]
  },
  {
   "cell_type": "code",
   "execution_count": 125,
   "metadata": {},
   "outputs": [],
   "source": [
    "# Answer"
   ]
  },
  {
   "cell_type": "code",
   "execution_count": 126,
   "metadata": {},
   "outputs": [
    {
     "data": {
      "text/html": [
       "<div>\n",
       "<style scoped>\n",
       "    .dataframe tbody tr th:only-of-type {\n",
       "        vertical-align: middle;\n",
       "    }\n",
       "\n",
       "    .dataframe tbody tr th {\n",
       "        vertical-align: top;\n",
       "    }\n",
       "\n",
       "    .dataframe thead th {\n",
       "        text-align: right;\n",
       "    }\n",
       "</style>\n",
       "<table border=\"1\" class=\"dataframe\">\n",
       "  <thead>\n",
       "    <tr style=\"text-align: right;\">\n",
       "      <th></th>\n",
       "      <th>season</th>\n",
       "      <th>result</th>\n",
       "      <th>score</th>\n",
       "      <th>nd rank</th>\n",
       "      <th>opponent</th>\n",
       "    </tr>\n",
       "  </thead>\n",
       "  <tbody>\n",
       "    <tr>\n",
       "      <th>0</th>\n",
       "      <td>1887</td>\n",
       "      <td>L</td>\n",
       "      <td>0-8</td>\n",
       "      <td>No Poll</td>\n",
       "      <td>MICHIGAN</td>\n",
       "    </tr>\n",
       "    <tr>\n",
       "      <th>1</th>\n",
       "      <td>1888</td>\n",
       "      <td>L</td>\n",
       "      <td>6-26</td>\n",
       "      <td>No Poll</td>\n",
       "      <td>MICHIGAN</td>\n",
       "    </tr>\n",
       "    <tr>\n",
       "      <th>2</th>\n",
       "      <td>1888</td>\n",
       "      <td>L</td>\n",
       "      <td>4-10</td>\n",
       "      <td>No Poll</td>\n",
       "      <td>MICHIGAN</td>\n",
       "    </tr>\n",
       "    <tr>\n",
       "      <th>3</th>\n",
       "      <td>1888</td>\n",
       "      <td>W</td>\n",
       "      <td>20-0</td>\n",
       "      <td>No Poll</td>\n",
       "      <td>HARVARD PREP</td>\n",
       "    </tr>\n",
       "    <tr>\n",
       "      <th>4</th>\n",
       "      <td>1889</td>\n",
       "      <td>W</td>\n",
       "      <td>9-0</td>\n",
       "      <td>No Poll</td>\n",
       "      <td>NORTHWESTERN</td>\n",
       "    </tr>\n",
       "    <tr>\n",
       "      <th>...</th>\n",
       "      <td>...</td>\n",
       "      <td>...</td>\n",
       "      <td>...</td>\n",
       "      <td>...</td>\n",
       "      <td>...</td>\n",
       "    </tr>\n",
       "    <tr>\n",
       "      <th>1257</th>\n",
       "      <td>2016</td>\n",
       "      <td>L</td>\n",
       "      <td>31-34</td>\n",
       "      <td>Not Ranked</td>\n",
       "      <td>VIRGINIA TECH</td>\n",
       "    </tr>\n",
       "    <tr>\n",
       "      <th>1258</th>\n",
       "      <td>2016</td>\n",
       "      <td>L</td>\n",
       "      <td>27-45</td>\n",
       "      <td>Not Ranked</td>\n",
       "      <td>SOUTHERN CAL</td>\n",
       "    </tr>\n",
       "    <tr>\n",
       "      <th>1259</th>\n",
       "      <td>2017</td>\n",
       "      <td>W</td>\n",
       "      <td>49-16</td>\n",
       "      <td>Not Ranked</td>\n",
       "      <td>TEMPLE</td>\n",
       "    </tr>\n",
       "    <tr>\n",
       "      <th>1260</th>\n",
       "      <td>2017</td>\n",
       "      <td>L</td>\n",
       "      <td>19-20</td>\n",
       "      <td>24</td>\n",
       "      <td>GEORGIA</td>\n",
       "    </tr>\n",
       "    <tr>\n",
       "      <th>1261</th>\n",
       "      <td>2017</td>\n",
       "      <td>L</td>\n",
       "      <td>19-20</td>\n",
       "      <td>24</td>\n",
       "      <td>GEORGIA</td>\n",
       "    </tr>\n",
       "  </tbody>\n",
       "</table>\n",
       "<p>1262 rows × 5 columns</p>\n",
       "</div>"
      ],
      "text/plain": [
       "      season result  score     nd rank       opponent\n",
       "0       1887      L    0-8     No Poll       MICHIGAN\n",
       "1       1888      L   6-26     No Poll       MICHIGAN\n",
       "2       1888      L   4-10     No Poll       MICHIGAN\n",
       "3       1888      W   20-0     No Poll   HARVARD PREP\n",
       "4       1889      W    9-0     No Poll   NORTHWESTERN\n",
       "...      ...    ...    ...         ...            ...\n",
       "1257    2016      L  31-34  Not Ranked  VIRGINIA TECH\n",
       "1258    2016      L  27-45  Not Ranked   SOUTHERN CAL\n",
       "1259    2017      W  49-16  Not Ranked         TEMPLE\n",
       "1260    2017      L  19-20          24        GEORGIA\n",
       "1261    2017      L  19-20          24        GEORGIA\n",
       "\n",
       "[1262 rows x 5 columns]"
      ]
     },
     "execution_count": 126,
     "metadata": {},
     "output_type": "execute_result"
    }
   ],
   "source": [
    "import pandas as pd\n",
    "\n",
    "df = pd.read_csv('NDFootballScore.csv')\n",
    "df = df.drop(columns = ['Site', 'Month', 'Day', 'Year', 'ND Coach', 'Opp. Coach', 'Opp. Rank'])\n",
    "df = df.rename(columns = {'W/L/T':'result'})\n",
    "df.columns = df.columns.str.lower()\n",
    "df"
   ]
  },
  {
   "cell_type": "markdown",
   "metadata": {},
   "source": [
    "### 2. Use Boolean Indexing (Boolean Selection) to calculate ND's all-time winning percentage.  Store the result in the variable **all_time_win_pct**. \n",
    "* Using f strings, print: *\"Notre Dame Football's all time winning percentage is XX.X%.\"*\n",
    "\n",
    "\n",
    "\n",
    "$$\\text{all-time winning pct} = \\frac{\\text{ # of wins}}{\\text{# games played} - \\text{# of ties}}$$"
   ]
  },
  {
   "cell_type": "code",
   "execution_count": 127,
   "metadata": {},
   "outputs": [],
   "source": [
    "# Answer"
   ]
  },
  {
   "cell_type": "code",
   "execution_count": 128,
   "metadata": {},
   "outputs": [],
   "source": [
    "import numpy as np\n",
    "\n",
    "all_time_win_pct = np.count_nonzero(df.result == 'W') / (len(df.result) - np.count_nonzero(df.result == 'T'))"
   ]
  },
  {
   "cell_type": "code",
   "execution_count": 129,
   "metadata": {},
   "outputs": [
    {
     "name": "stdout",
     "output_type": "stream",
     "text": [
      "Notre Dame Football's all time winning percentage is 0.7352459016393442.\n"
     ]
    }
   ],
   "source": [
    "print('Notre Dame Football\\'s all time winning percentage is %s.' % all_time_win_pct)"
   ]
  },
  {
   "cell_type": "markdown",
   "metadata": {},
   "source": [
    "### 3. What is the Average Margin of Victory\n",
    "The formula for Avg Margin of Victory is as follows.\n",
    "\n",
    "avg_mov = (sum(nd_score) - sum(opp_score)) / num_wins\n",
    "\n",
    "Answer the following questions:\n",
    "\n",
    "1. For all of the games that Notre Dame won, what was the avg margin of victory?\n",
    "2. For games played in the 1999 season, what was the avg margin of victory?\n",
    "\n",
    "Note: This requires you to create two new columns `nd_score` and `opp_score`"
   ]
  },
  {
   "cell_type": "code",
   "execution_count": 130,
   "metadata": {},
   "outputs": [],
   "source": [
    "# Answer\n",
    "\n",
    "# Your formula says number of wins, but everything I've seen on the subject suggests that margin of victory can be negative\n",
    "# see: (https://www.pro-football-reference.com/blog/indexcb30.html?p=47)\n",
    "# As a result, I've left it with the complete number including losses, but would use\n",
    "# winDf = df[df['result'] == 'W'], and then winDf instead of df. I would also base df1999 off of winDf \n",
    "# df1999 = winDf[winDf['season'] == 1999]\n",
    "# before I add the nd_score and opp_score columns if it was to only count wins.\n"
   ]
  },
  {
   "cell_type": "code",
   "execution_count": 131,
   "metadata": {},
   "outputs": [],
   "source": [
    "\n",
    "df['nd_score'] = df.apply(lambda row: row.score.partition('-')[0], axis = 1)\n",
    "df['opp_score'] = df.apply(lambda row: row.score.partition('-')[2], axis = 1)\n",
    "\n",
    "avg_mov = (sum(df['nd_score'].astype('int32'))-sum(df['opp_score'].astype('int32'))) / len(df)\n"
   ]
  },
  {
   "cell_type": "code",
   "execution_count": 132,
   "metadata": {},
   "outputs": [
    {
     "name": "stdout",
     "output_type": "stream",
     "text": [
      "Notre Dame Football's average margin of victory is 12.933438985736926.\n"
     ]
    }
   ],
   "source": [
    "print('Notre Dame Football\\'s average margin of victory is %s.' % avg_mov)"
   ]
  },
  {
   "cell_type": "code",
   "execution_count": 133,
   "metadata": {},
   "outputs": [
    {
     "name": "stderr",
     "output_type": "stream",
     "text": [
      "C:\\Users\\Peter\\AppData\\Local\\Temp/ipykernel_25684/2030145909.py:2: SettingWithCopyWarning: \n",
      "A value is trying to be set on a copy of a slice from a DataFrame.\n",
      "Try using .loc[row_indexer,col_indexer] = value instead\n",
      "\n",
      "See the caveats in the documentation: https://pandas.pydata.org/pandas-docs/stable/user_guide/indexing.html#returning-a-view-versus-a-copy\n",
      "  df1999['nd_score'] = df1999.apply(lambda row: row.score.partition('-')[0], axis = 1)\n",
      "C:\\Users\\Peter\\AppData\\Local\\Temp/ipykernel_25684/2030145909.py:3: SettingWithCopyWarning: \n",
      "A value is trying to be set on a copy of a slice from a DataFrame.\n",
      "Try using .loc[row_indexer,col_indexer] = value instead\n",
      "\n",
      "See the caveats in the documentation: https://pandas.pydata.org/pandas-docs/stable/user_guide/indexing.html#returning-a-view-versus-a-copy\n",
      "  df1999['opp_score'] = df1999.apply(lambda row: row.score.partition('-')[2], axis = 1)\n"
     ]
    }
   ],
   "source": [
    "df1999 = df[df['season'] == 1999]\n",
    "df1999['nd_score'] = df1999.apply(lambda row: row.score.partition('-')[0], axis = 1)\n",
    "df1999['opp_score'] = df1999.apply(lambda row: row.score.partition('-')[2], axis = 1)\n",
    "\n",
    "avg_mov = (sum(df1999['nd_score'].astype('int32'))-sum(df1999['opp_score'].astype('int32'))) / len(df1999)"
   ]
  },
  {
   "cell_type": "code",
   "execution_count": 134,
   "metadata": {},
   "outputs": [
    {
     "name": "stdout",
     "output_type": "stream",
     "text": [
      "Notre Dame Football's average margin of victory in 1999 was 1.4166666666666667.\n"
     ]
    }
   ],
   "source": [
    "print('Notre Dame Football\\'s average margin of victory in 1999 was %s.' % avg_mov)"
   ]
  },
  {
   "cell_type": "markdown",
   "metadata": {},
   "source": [
    "### 4. Create Plots for the following:\n",
    "\n",
    "1. Histogram of the nd_score using 100 bins\n",
    "2. Boxplot for the nd_score and opp_score on the same chart\n",
    "3. Plot the top 10 teams by the number of games played"
   ]
  },
  {
   "cell_type": "code",
   "execution_count": 135,
   "metadata": {},
   "outputs": [],
   "source": [
    "import matplotlib.pyplot as plt\n",
    "from matplotlib.pyplot import figure\n",
    "plt.rcParams['figure.figsize'] = (15,9)"
   ]
  },
  {
   "cell_type": "code",
   "execution_count": 136,
   "metadata": {},
   "outputs": [
    {
     "data": {
      "image/png": "[encoded data removed]",
      "text/plain": [
       "<Figure size 1080x648 with 1 Axes>"
      ]
     },
     "metadata": {
      "needs_background": "light"
     },
     "output_type": "display_data"
    }
   ],
   "source": [
    "plt.xticks(rotation = 90)\n",
    "plt.hist(df.nd_score, bins=100)\n",
    "plt.show()"
   ]
  },
  {
   "cell_type": "code",
   "execution_count": 159,
   "metadata": {},
   "outputs": [
    {
     "data": {
      "image/png": "[encoded data removed]",
      "text/plain": [
       "<Figure size 1080x648 with 1 Axes>"
      ]
     },
     "metadata": {
      "needs_background": "light"
     },
     "output_type": "display_data"
    }
   ],
   "source": [
    "data = [df['nd_score'], df['opp_score']]\n",
    "boxdf = pd.concat(data, axis = 1, keys = ['nd_score', 'opp_score'])\n",
    "boxdf = boxdf.astype('int64')\n",
    "\n",
    "plt.boxplot(boxdf)\n",
    "plt.show()"
   ]
  },
  {
   "cell_type": "code",
   "execution_count": 170,
   "metadata": {},
   "outputs": [
    {
     "data": {
      "image/png": "[encoded data removed]",
      "text/plain": [
       "<Figure size 1080x648 with 1 Axes>"
      ]
     },
     "metadata": {
      "needs_background": "light"
     },
     "output_type": "display_data"
    }
   ],
   "source": [
    "num_games = df['opponent'].value_counts().head(10)\n",
    "num_games.index\n",
    "\n",
    "plt.bar(num_games.index, num_games)\n",
    "plt.show()"
   ]
  },
  {
   "cell_type": "code",
   "execution_count": null,
   "metadata": {},
   "outputs": [],
   "source": []
  },
  {
   "cell_type": "code",
   "execution_count": null,
   "metadata": {},
   "outputs": [],
   "source": []
  },
  {
   "cell_type": "code",
   "execution_count": null,
   "metadata": {},
   "outputs": [],
   "source": []
  }
 ],
 "metadata": {
  "kernelspec": {
   "display_name": "Python 3 (ipykernel)",
   "language": "python",
   "name": "python3"
  },
  "language_info": {
   "codemirror_mode": {
    "name": "ipython",
    "version": 3
   },
   "file_extension": ".py",
   "mimetype": "text/x-python",
   "name": "python",
   "nbconvert_exporter": "python",
   "pygments_lexer": "ipython3",
   "version": "3.8.11"
  }
 },
 "nbformat": 4,
 "nbformat_minor": 2
}
