{
 "cells": [
  {
   "cell_type": "markdown",
   "metadata": {},
   "source": [
    "# Assignment 3 (60 points - Due on Monday October 11th by 7:00 pm ET)\n",
    "\n",
    "**You are free to use any IDE you like.**\n",
    "The output of this assignment for submission should be in PDF format **AND** .py or .ipynb. The name of the file should be as follows: Lastname_Firstname_Assignment3.pdf (example: Thomas_Sunela_Assignment3.pdf) ****AND**** Lastname_Firstname_Assignment3.ipynb (example: Thomas_Sunela_Assignment3.ipynb. In short, you are submitting the python notebook as well as the pdf of that notebook.\n",
    "\n",
    "Incorrect file name will cost you points! Do NOT submit HTML code file.\n",
    "Instructions for converting a Jupyter Python notebook to PDF: Go to the menu and choose, File --> Download As --> html\n",
    "\n",
    "Open that html file and print it to PDF.\n",
    "\n",
    "**Things to note:**\n",
    "* Output should be displayed for each question in a sentence format"
   ]
  },
  {
   "cell_type": "markdown",
   "metadata": {},
   "source": [
    "## Use the tips.csv file to answer the following questions. Each question answer should be displayed. The meaning of the variables are described below.\n",
    "* total_bill = Total bill (cost of meal), including tax, in US dollars\n",
    "* tip = Tip (gratuity) in US dollars\n",
    "* sex = 0 (male) and 1 (female)\n",
    "* smoker = 0 (NO), 1 (YES)\n",
    "* day = Day of the Week (4 = Thurs, 5= Fri, 6 = Sat, 7 = Sun)\n",
    "* time = Dinner, Lunch\n",
    "* size = size of the party\n",
    "\n",
    "<h3> You may need to recode some variables like sex, day of the week, etc. so that the results are meaningful.  Provide the results in the form of a sentence instead of just a value."
   ]
  },
  {
   "cell_type": "markdown",
   "metadata": {},
   "source": [
    "<h3> 1. What is total number of orders where the `total_bill` is greater than $40 and the party size was 4 or less?"
   ]
  },
  {
   "cell_type": "code",
   "execution_count": 208,
   "metadata": {},
   "outputs": [
    {
     "name": "stdout",
     "output_type": "stream",
     "text": [
      "Total number of orders where the total bill is greater than $40 and the party size is 4 or less: 8\n"
     ]
    }
   ],
   "source": [
    "import pandas as pd\n",
    "df = pd.read_csv('tips.csv')\n",
    "#print(df)\n",
    "# Answer\n",
    "print('Total number of orders where the total bill is greater than $40 and the party size is 4 or less:',\\\n",
    "      len(df.loc[(df['total_bill'] > 40.00) & (df['size'] <= 4)]))"
   ]
  },
  {
   "cell_type": "markdown",
   "metadata": {},
   "source": [
    "<h3> 2. Who pays the bill more often: men or women?"
   ]
  },
  {
   "cell_type": "code",
   "execution_count": 209,
   "metadata": {},
   "outputs": [
    {
     "name": "stdout",
     "output_type": "stream",
     "text": [
      "Women pay more often.\n"
     ]
    }
   ],
   "source": [
    "# Answer\n",
    "if(len(df.loc[df['sex'] == 0]) > len(df.loc[df['sex'] == 1])):\n",
    "    print('Men pay more often.')\n",
    "else:\n",
    "    print('Women pay more often.')"
   ]
  },
  {
   "cell_type": "markdown",
   "metadata": {},
   "source": [
    "<h3> 3. What day-time combination has the highest average bill? What has the lowest average bill?"
   ]
  },
  {
   "cell_type": "code",
   "execution_count": 210,
   "metadata": {},
   "outputs": [
    {
     "name": "stdout",
     "output_type": "stream",
     "text": [
      "Highest bill: Day 7 Dinner\n",
      "Lowest bill: Day 5 Lunch\n"
     ]
    }
   ],
   "source": [
    "# Answer\n",
    "df2 = df.groupby(['time', 'day']).mean()\n",
    "maxBill = df2['total_bill'].max()\n",
    "\n",
    "maxDay = df2.loc[df2['total_bill'] == maxBill].index.values\n",
    "\n",
    "print('Highest bill: Day', maxDay[0][1], maxDay[0][0])\n",
    "\n",
    "minBill = df2['total_bill'].min()\n",
    "minDay = df2.loc[df2['total_bill'] == minBill].index.values\n",
    "\n",
    "print('Lowest bill: Day', minDay[0][1], minDay[0][0])"
   ]
  },
  {
   "cell_type": "markdown",
   "metadata": {},
   "source": [
    "<h3> 4. On which day of the week does the waiter serve the largest parties on average?"
   ]
  },
  {
   "cell_type": "code",
   "execution_count": 211,
   "metadata": {},
   "outputs": [
    {
     "name": "stdout",
     "output_type": "stream",
     "text": [
      "The largest parties, on average, are on Day: 7\n"
     ]
    }
   ],
   "source": [
    "# Answer\n",
    "import numpy as np\n",
    "df2 = df.groupby(['day']).agg({'size':np.mean})\n",
    "print('The largest parties, on average, are on Day:', df2['size'].idxmax())"
   ]
  },
  {
   "cell_type": "markdown",
   "metadata": {},
   "source": [
    "<h3> 5. Calculate the average total bill by day, time, and party size. Display the results in a pivot table. "
   ]
  },
  {
   "cell_type": "code",
   "execution_count": 212,
   "metadata": {},
   "outputs": [
    {
     "data": {
      "text/html": [
       "<div>\n",
       "<style scoped>\n",
       "    .dataframe tbody tr th:only-of-type {\n",
       "        vertical-align: middle;\n",
       "    }\n",
       "\n",
       "    .dataframe tbody tr th {\n",
       "        vertical-align: top;\n",
       "    }\n",
       "\n",
       "    .dataframe thead th {\n",
       "        text-align: right;\n",
       "    }\n",
       "</style>\n",
       "<table border=\"1\" class=\"dataframe\">\n",
       "  <thead>\n",
       "    <tr style=\"text-align: right;\">\n",
       "      <th></th>\n",
       "      <th>size</th>\n",
       "      <th>1</th>\n",
       "      <th>2</th>\n",
       "      <th>3</th>\n",
       "      <th>4</th>\n",
       "      <th>5</th>\n",
       "      <th>6</th>\n",
       "    </tr>\n",
       "    <tr>\n",
       "      <th>day</th>\n",
       "      <th>time</th>\n",
       "      <th></th>\n",
       "      <th></th>\n",
       "      <th></th>\n",
       "      <th></th>\n",
       "      <th></th>\n",
       "      <th></th>\n",
       "    </tr>\n",
       "  </thead>\n",
       "  <tbody>\n",
       "    <tr>\n",
       "      <th rowspan=\"2\" valign=\"top\">4</th>\n",
       "      <th>Dinner</th>\n",
       "      <td>NaN</td>\n",
       "      <td>18.780000</td>\n",
       "      <td>NaN</td>\n",
       "      <td>NaN</td>\n",
       "      <td>NaN</td>\n",
       "      <td>NaN</td>\n",
       "    </tr>\n",
       "    <tr>\n",
       "      <th>Lunch</th>\n",
       "      <td>10.07</td>\n",
       "      <td>15.079787</td>\n",
       "      <td>19.160000</td>\n",
       "      <td>29.950000</td>\n",
       "      <td>41.19</td>\n",
       "      <td>30.383333</td>\n",
       "    </tr>\n",
       "    <tr>\n",
       "      <th rowspan=\"2\" valign=\"top\">5</th>\n",
       "      <th>Dinner</th>\n",
       "      <td>NaN</td>\n",
       "      <td>17.799091</td>\n",
       "      <td>NaN</td>\n",
       "      <td>40.170000</td>\n",
       "      <td>NaN</td>\n",
       "      <td>NaN</td>\n",
       "    </tr>\n",
       "    <tr>\n",
       "      <th>Lunch</th>\n",
       "      <td>8.58</td>\n",
       "      <td>13.072000</td>\n",
       "      <td>15.980000</td>\n",
       "      <td>NaN</td>\n",
       "      <td>NaN</td>\n",
       "      <td>NaN</td>\n",
       "    </tr>\n",
       "    <tr>\n",
       "      <th>6</th>\n",
       "      <th>Dinner</th>\n",
       "      <td>5.16</td>\n",
       "      <td>16.837170</td>\n",
       "      <td>25.509444</td>\n",
       "      <td>29.876154</td>\n",
       "      <td>28.15</td>\n",
       "      <td>NaN</td>\n",
       "    </tr>\n",
       "    <tr>\n",
       "      <th>7</th>\n",
       "      <th>Dinner</th>\n",
       "      <td>NaN</td>\n",
       "      <td>17.560000</td>\n",
       "      <td>22.184000</td>\n",
       "      <td>26.688333</td>\n",
       "      <td>27.00</td>\n",
       "      <td>48.170000</td>\n",
       "    </tr>\n",
       "  </tbody>\n",
       "</table>\n",
       "</div>"
      ],
      "text/plain": [
       "size            1          2          3          4      5          6\n",
       "day time                                                            \n",
       "4   Dinner    NaN  18.780000        NaN        NaN    NaN        NaN\n",
       "    Lunch   10.07  15.079787  19.160000  29.950000  41.19  30.383333\n",
       "5   Dinner    NaN  17.799091        NaN  40.170000    NaN        NaN\n",
       "    Lunch    8.58  13.072000  15.980000        NaN    NaN        NaN\n",
       "6   Dinner   5.16  16.837170  25.509444  29.876154  28.15        NaN\n",
       "7   Dinner    NaN  17.560000  22.184000  26.688333  27.00  48.170000"
      ]
     },
     "execution_count": 212,
     "metadata": {},
     "output_type": "execute_result"
    }
   ],
   "source": [
    "# Answer\n",
    "df.pivot_table('total_bill', ['day', 'time'], 'size')"
   ]
  },
  {
   "cell_type": "markdown",
   "metadata": {},
   "source": [
    "<h3> 6. What is the lowest tip_rate? Was it paid by a male or female? Was it a smoker or non-smoker?"
   ]
  },
  {
   "cell_type": "code",
   "execution_count": 213,
   "metadata": {},
   "outputs": [
    {
     "name": "stdout",
     "output_type": "stream",
     "text": [
      "The lowest tipper was a Male Nonsmoker.\n"
     ]
    }
   ],
   "source": [
    "# Answer\n",
    "df2 = df.groupby('tip').min()\n",
    "df3 = df2.head(1)\n",
    "if(df3['smoker'].iloc[0] == 0):\n",
    "    isSmoker = 'Nonsmoker'\n",
    "else:\n",
    "    isSmoker = 'Smoker'\n",
    "if(df3['sex'].iloc[0] == 0):\n",
    "    tipperSex = 'Male'\n",
    "else:\n",
    "    tipperSex = 'Female'\n",
    "print('The lowest tipper was a', tipperSex, isSmoker + '.')"
   ]
  },
  {
   "cell_type": "code",
   "execution_count": null,
   "metadata": {},
   "outputs": [],
   "source": []
  }
 ],
 "metadata": {
  "kernelspec": {
   "display_name": "Python 3 (ipykernel)",
   "language": "python",
   "name": "python3"
  },
  "language_info": {
   "codemirror_mode": {
    "name": "ipython",
    "version": 3
   },
   "file_extension": ".py",
   "mimetype": "text/x-python",
   "name": "python",
   "nbconvert_exporter": "python",
   "pygments_lexer": "ipython3",
   "version": "3.8.11"
  }
 },
 "nbformat": 4,
 "nbformat_minor": 2
}
