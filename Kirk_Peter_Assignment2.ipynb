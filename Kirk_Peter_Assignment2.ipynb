{
 "cells": [
  {
   "cell_type": "markdown",
   "metadata": {},
   "source": [
    "# Assignment 2 (60 points - Due on Monday September 27th by 7:00 pm ET)\n",
    "\n",
    "**You are free to use any IDE you like.**\n",
    "The output of this assignment for submission should be in PDF format **AND** .py or .ipynb. The name of the file should be as follows: Lastname_Firstname_Assignment2.pdf (example: Thomas_Sunela_Assignment2.pdf) ****AND**** Lastname_Firstname_Assignment2.ipynb (example: Thomas_Sunela_Assignment2.ipynb. In short, you are submitting the python notebook as well as the pdf of that notebook.\n",
    "\n",
    "Incorrect file name will cost you points! Do NOT submit HTML code file.\n",
    "Instructions for converting a Jupyter Python notebook to PDF: Go to the menu and choose, File --> Download As --> html\n",
    "\n",
    "Open that html file and print it to PDF.\n",
    "\n",
    "**Things to note:**\n",
    "* Output of your function should be displayed."
   ]
  },
  {
   "cell_type": "markdown",
   "metadata": {},
   "source": [
    "### Problem 1 (5 points)\n",
    "<span  style=\"color:purple; font-size:16px\">LESSER OF TWO EVENS: Write a function that returns the lesser of two given numbers if both the numbers are even, but returns the greater if one or both the numbers are odd.</span>\n",
    "* lesser_of_two_evens(2,4) --> 2\n",
    "* lesser_of_two_evens(2,5) --> 5"
   ]
  },
  {
   "cell_type": "code",
   "execution_count": 4,
   "metadata": {},
   "outputs": [
    {
     "name": "stdout",
     "output_type": "stream",
     "text": [
      "2\n",
      "5\n"
     ]
    }
   ],
   "source": [
    "# Answer\n",
    "def lesser_of_two_evens(x,y):\n",
    "    if(x%2 == 0 and y%2 ==0):\n",
    "        if(x>y):\n",
    "            return y\n",
    "        elif(x==y):\n",
    "            return 'Neither is smaller'\n",
    "        else:\n",
    "            return x\n",
    "    else:\n",
    "        if(x>y):\n",
    "            return x\n",
    "        elif(x==y):\n",
    "            return 'Neither is larger'\n",
    "        else:\n",
    "            return y\n",
    "print(lesser_of_two_evens(2,4))\n",
    "print(lesser_of_two_evens(2,5))"
   ]
  },
  {
   "cell_type": "code",
   "execution_count": 2,
   "metadata": {},
   "outputs": [
    {
     "data": {
      "text/plain": [
       "1"
      ]
     },
     "execution_count": 2,
     "metadata": {},
     "output_type": "execute_result"
    }
   ],
   "source": [
    "print(lesser_of_two_evens(2,4))\n",
    "print(lesser_of_two_evens(2,5))"
   ]
  },
  {
   "cell_type": "markdown",
   "metadata": {},
   "source": [
    "### Problem 2 (5 points)\n",
    "<span  style=\"color:purple; font-size:16px\">MAKES TWENTY: Given two integers, return True if the sum of the integers is 20 or if one of the integers is 20. If not, return False</span>\n",
    "* makes_twenty(20,10) --> True\n",
    "* makes_twenty(12,8) --> True\n",
    "* makes_twenty(2,3) --> False"
   ]
  },
  {
   "cell_type": "code",
   "execution_count": 5,
   "metadata": {},
   "outputs": [],
   "source": [
    "# Answer\n",
    "def makes_twenty(x,y):\n",
    "    if(x+y == 20 or x == 20 or y == 20):\n",
    "        return True\n",
    "    else:\n",
    "        return False"
   ]
  },
  {
   "cell_type": "code",
   "execution_count": 7,
   "metadata": {},
   "outputs": [
    {
     "name": "stdout",
     "output_type": "stream",
     "text": [
      "True\n",
      "True\n",
      "False\n"
     ]
    }
   ],
   "source": [
    "print(makes_twenty(20,10))\n",
    "print(makes_twenty(12,8))\n",
    "print(makes_twenty(2,3))"
   ]
  },
  {
   "cell_type": "markdown",
   "metadata": {},
   "source": [
    "### Problem 3 (5 points)\n",
    "<span  style=\"color:purple; font-size:16px\">ALMOST THERE: Given an integer n, return True if n is within 10 of either 100 or 200</span>\n",
    "* almost_there(90) --> True\n",
    "* almost_there(104) --> True\n",
    "* almost_there(150) --> False\n",
    "* almost_there(209) --> True\n",
    "\n",
    "* NOTE: abs(num) return the absolute value of a number"
   ]
  },
  {
   "cell_type": "code",
   "execution_count": 14,
   "metadata": {},
   "outputs": [],
   "source": [
    "# Answer\n",
    "def almost_there(x):\n",
    "    if(90 <= x <= 110 or 190 <= x <= 210):\n",
    "        return True\n",
    "    else:\n",
    "        return False"
   ]
  },
  {
   "cell_type": "code",
   "execution_count": 15,
   "metadata": {},
   "outputs": [
    {
     "name": "stdout",
     "output_type": "stream",
     "text": [
      "True\n",
      "True\n",
      "False\n",
      "True\n"
     ]
    }
   ],
   "source": [
    "print(almost_there(90))\n",
    "print(almost_there(104))\n",
    "print(almost_there(150))\n",
    "print(almost_there(209))"
   ]
  },
  {
   "cell_type": "markdown",
   "metadata": {},
   "source": [
    "### Problem 4 (15 points)\n",
    "<span  style=\"color:purple; font-size:16px\">BLACKJACK: Given three integers between 1 and 11, if their sum is less than or equal to 21, return their sum. If their sum exceeds 21 and there's an 11, reduce the total sum by 10. Finally, if the sum(even after adjustment) exceeds 21, return 'BUST'</span>\n",
    "\n",
    "* blackjack(5,6,7) --> 18\n",
    "* blackjack(9,9,9) --> 'BUST'\n",
    "* blackjack(9,9,11) --> 19"
   ]
  },
  {
   "cell_type": "code",
   "execution_count": 16,
   "metadata": {},
   "outputs": [],
   "source": [
    "# Answer\n",
    "def blackjack(x,y,z):\n",
    "    if(x+y+z <= 21):\n",
    "        return x+y+z\n",
    "    elif((x == 11 or y == 11 or z == 11) and x+y+z>21):\n",
    "        return x+y+z-10\n",
    "    else:\n",
    "        return 'BUST'"
   ]
  },
  {
   "cell_type": "code",
   "execution_count": 17,
   "metadata": {},
   "outputs": [
    {
     "name": "stdout",
     "output_type": "stream",
     "text": [
      "18\n",
      "BUST\n",
      "19\n"
     ]
    }
   ],
   "source": [
    "print(blackjack(5,6,7))\n",
    "print(blackjack(9,9,9))\n",
    "print(blackjack(9,9,11))"
   ]
  },
  {
   "cell_type": "markdown",
   "metadata": {},
   "source": [
    "### Problem 5 (15 points)\n",
    "<span  style=\"color:purple; font-size:16px\">SPY_GAME: Write a function that takes in a list of integers and return True if it contains 007 in order</span>\n",
    "\n",
    "* spy_game([1,2,4,0,0,7,5]) --> True\n",
    "* spy_game([1,0,2,4,0,5,7]) --> True\n",
    "* spy_game([1,7,2,0,4,5,0]) --> False"
   ]
  },
  {
   "cell_type": "code",
   "execution_count": 48,
   "metadata": {},
   "outputs": [],
   "source": [
    "# Answer\n",
    "def spy_game(intList):\n",
    "    c = 0\n",
    "    for num in intList:\n",
    "        if(num == 0 and c < 2):\n",
    "            c+=1\n",
    "        elif(num == 7 and c == 2):\n",
    "            c+=1\n",
    "    if(c == 3):\n",
    "        return True\n",
    "    else:\n",
    "        return False"
   ]
  },
  {
   "cell_type": "code",
   "execution_count": 49,
   "metadata": {},
   "outputs": [
    {
     "name": "stdout",
     "output_type": "stream",
     "text": [
      "True\n",
      "True\n",
      "False\n"
     ]
    }
   ],
   "source": [
    "print(spy_game([1,2,4,0,0,7,5]))\n",
    "print(spy_game([1,0,2,4,0,5,7]))\n",
    "print(spy_game([1,7,2,0,4,5,0]))"
   ]
  },
  {
   "cell_type": "markdown",
   "metadata": {},
   "source": [
    "### Problem 6 (15 points)\n",
    "<span  style=\"color:purple; font-size:16px\">COUNT PRIMES: Write a function that returns the number of prime numbers that exist up to and including a given number</span>\n",
    "\n",
    "* count_primes(100) --> 25\n",
    "\n",
    "By convention, 0 and 1 are not prime."
   ]
  },
  {
   "cell_type": "code",
   "execution_count": 98,
   "metadata": {},
   "outputs": [],
   "source": [
    "# Answer\n",
    "def count_primes(num):\n",
    "    if num <= 1:\n",
    "        return 0\n",
    "    c2 = 0\n",
    "    for i in range(num+1):\n",
    "        c = 0\n",
    "        for j in range(2,i):\n",
    "            if((j > 1 and j < i) and i % j == 0):\n",
    "                c += 1\n",
    "        if(c == 0 and i > 1):\n",
    "            c2 += 1\n",
    "    return c2"
   ]
  },
  {
   "cell_type": "code",
   "execution_count": 99,
   "metadata": {},
   "outputs": [
    {
     "data": {
      "text/plain": [
       "1229"
      ]
     },
     "execution_count": 99,
     "metadata": {},
     "output_type": "execute_result"
    }
   ],
   "source": [
    "count_primes(100)"
   ]
  },
  {
   "cell_type": "code",
   "execution_count": null,
   "metadata": {},
   "outputs": [],
   "source": []
  },
  {
   "cell_type": "code",
   "execution_count": null,
   "metadata": {},
   "outputs": [],
   "source": []
  }
 ],
 "metadata": {
  "kernelspec": {
   "display_name": "Python 3 (ipykernel)",
   "language": "python",
   "name": "python3"
  },
  "language_info": {
   "codemirror_mode": {
    "name": "ipython",
    "version": 3
   },
   "file_extension": ".py",
   "mimetype": "text/x-python",
   "name": "python",
   "nbconvert_exporter": "python",
   "pygments_lexer": "ipython3",
   "version": "3.8.11"
  }
 },
 "nbformat": 4,
 "nbformat_minor": 2
}
